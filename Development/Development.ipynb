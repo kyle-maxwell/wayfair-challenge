{
 "cells": [
  {
   "cell_type": "code",
   "execution_count": 1,
   "metadata": {},
   "outputs": [],
   "source": [
    "import pandas as pd\n",
    "import numpy as np\n",
    "import matplotlib.pyplot as plt\n",
    "\n",
    "import xgboost as xgb\n",
    "from sklearn import metrics\n",
    "from sklearn.model_selection import train_test_split"
   ]
  },
  {
   "cell_type": "code",
   "execution_count": 2,
   "metadata": {},
   "outputs": [],
   "source": [
    "train = pd.read_csv('df_training_scholarjet.csv', index_col='cuid').drop('Unnamed: 0', axis='columns')\n",
    "test = pd.read_csv('df_holdout_scholarjet.csv', index_col='cuid').drop('Unnamed: 0', axis='columns')"
   ]
  },
  {
   "cell_type": "markdown",
   "metadata": {},
   "source": [
    "# Prep Independent Variables\n"
   ]
  },
  {
   "cell_type": "code",
   "execution_count": 3,
   "metadata": {},
   "outputs": [],
   "source": [
    "train = pd.get_dummies(train).reset_index()"
   ]
  },
  {
   "cell_type": "code",
   "execution_count": 4,
   "metadata": {},
   "outputs": [
    {
     "name": "stderr",
     "output_type": "stream",
     "text": [
      "/Users/kylemaxwell/anaconda3/lib/python3.6/site-packages/ipykernel_launcher.py:6: RuntimeWarning: invalid value encountered in log1p\n",
      "  \n"
     ]
    }
   ],
   "source": [
    "# Skew Correction\n",
    "# NOTE: SKEW CORRECTS REVENUE_30\n",
    "skewed = train[train.columns[(abs(train.skew()) > 20).values]].skew()\n",
    "for col in train.columns:\n",
    "    if col in skewed.index:\n",
    "        train[col] = np.log1p(train[col])"
   ]
  },
  {
   "cell_type": "code",
   "execution_count": 5,
   "metadata": {},
   "outputs": [],
   "source": [
    "X = train[[col for col in train.columns if col not in ['cuid', 'convert_30', 'revenue_30']]]"
   ]
  },
  {
   "cell_type": "code",
   "execution_count": 6,
   "metadata": {},
   "outputs": [],
   "source": [
    "# Median fill NaNs\n",
    "values_impute = {x: X[x].median() for x in X.columns}\n",
    "X = X.fillna(value = values_impute)"
   ]
  },
  {
   "cell_type": "code",
   "execution_count": 7,
   "metadata": {},
   "outputs": [],
   "source": [
    "# Drop fully NaN columns\n",
    "all_nan = X.isna().sum()[X.isna().sum() > 0].index\n",
    "X = X.drop(all_nan, axis='columns')"
   ]
  },
  {
   "cell_type": "markdown",
   "metadata": {},
   "source": [
    "# Preliminary Gradient Boosting for Feature Selection\n"
   ]
  },
  {
   "cell_type": "code",
   "execution_count": 8,
   "metadata": {},
   "outputs": [],
   "source": [
    "y_convert = train.convert_30"
   ]
  },
  {
   "cell_type": "code",
   "execution_count": 9,
   "metadata": {},
   "outputs": [],
   "source": [
    "X_train, X_test, y_train, y_test = train_test_split(X, y_convert, test_size=0.20)\n",
    "model = xgb.XGBClassifier(scale_pos_weight=4)\n",
    "model.fit(X_train, y_train)\n",
    "xgb_features = pd.DataFrame(model.feature_importances_, X_train.columns).sort_values(0, ascending=False)\n"
   ]
  },
  {
   "cell_type": "code",
   "execution_count": 10,
   "metadata": {},
   "outputs": [
    {
     "name": "stdout",
     "output_type": "stream",
     "text": [
      "Labels:       0, 1\n",
      "Precision:   [0.9317623  0.36863271]\n",
      "Recall:      [0.9061379  0.45230263]\n",
      "F1:          [0.91877147 0.40620384]\n",
      "Support:     [5018  608]\n",
      "Pred Count:  [4880  746]\n"
     ]
    }
   ],
   "source": [
    "y_pred = model.predict(X_test)\n",
    "precision, recall, f1, support = metrics.precision_recall_fscore_support(y_test, y_pred)\n",
    "print(\"Labels:       0, 1\")\n",
    "print(\"Precision:  \", precision)\n",
    "print(\"Recall:     \", recall)\n",
    "print(\"F1:         \", f1)\n",
    "print(\"Support:    \", support)\n",
    "print(\"Pred Count: \", pd.Series(y_pred).value_counts().values)"
   ]
  },
  {
   "cell_type": "code",
   "execution_count": 11,
   "metadata": {},
   "outputs": [
    {
     "data": {
      "text/html": [
       "<div>\n",
       "<style scoped>\n",
       "    .dataframe tbody tr th:only-of-type {\n",
       "        vertical-align: middle;\n",
       "    }\n",
       "\n",
       "    .dataframe tbody tr th {\n",
       "        vertical-align: top;\n",
       "    }\n",
       "\n",
       "    .dataframe thead th {\n",
       "        text-align: right;\n",
       "    }\n",
       "</style>\n",
       "<table border=\"1\" class=\"dataframe\">\n",
       "  <thead>\n",
       "    <tr style=\"text-align: right;\">\n",
       "      <th></th>\n",
       "      <th>0</th>\n",
       "    </tr>\n",
       "  </thead>\n",
       "  <tbody>\n",
       "    <tr>\n",
       "      <th>dayssincelastvisit</th>\n",
       "      <td>0.098599</td>\n",
       "    </tr>\n",
       "    <tr>\n",
       "      <th>numtotalpageviewsthirtyseven</th>\n",
       "      <td>0.074126</td>\n",
       "    </tr>\n",
       "    <tr>\n",
       "      <th>sumatcprice</th>\n",
       "      <td>0.053753</td>\n",
       "    </tr>\n",
       "    <tr>\n",
       "      <th>numskusviewedthirtyseven</th>\n",
       "      <td>0.053286</td>\n",
       "    </tr>\n",
       "    <tr>\n",
       "      <th>numatcsixtythirty</th>\n",
       "      <td>0.023818</td>\n",
       "    </tr>\n",
       "  </tbody>\n",
       "</table>\n",
       "</div>"
      ],
      "text/plain": [
       "                                     0\n",
       "dayssincelastvisit            0.098599\n",
       "numtotalpageviewsthirtyseven  0.074126\n",
       "sumatcprice                   0.053753\n",
       "numskusviewedthirtyseven      0.053286\n",
       "numatcsixtythirty             0.023818"
      ]
     },
     "execution_count": 11,
     "metadata": {},
     "output_type": "execute_result"
    }
   ],
   "source": [
    "# Select Features\n",
    "top_20 = xgb_features[:20]\n",
    "xgb_train = X[top_20.index]\n",
    "top_20.head()"
   ]
  },
  {
   "cell_type": "markdown",
   "metadata": {},
   "source": [
    "# Gradient Boosting for Conversion Classification"
   ]
  },
  {
   "cell_type": "code",
   "execution_count": 12,
   "metadata": {},
   "outputs": [],
   "source": [
    "X_train, X_test, y_train, y_test = train_test_split(xgb_train, y_convert, test_size=0.20)\n",
    "model = xgb.XGBClassifier(scale_pos_weight=4)\n",
    "model.fit(X_train, y_train)\n",
    "xgb_features = pd.DataFrame(model.feature_importances_, X_train.columns).sort_values(0, ascending=False)\n"
   ]
  },
  {
   "cell_type": "code",
   "execution_count": 13,
   "metadata": {},
   "outputs": [
    {
     "name": "stdout",
     "output_type": "stream",
     "text": [
      "Labels:       0, 1\n",
      "Precision:   [0.93478708 0.36862745]\n",
      "Recall:      [0.90391884 0.47078464]\n",
      "F1:          [0.91909385 0.41348974]\n",
      "Support:     [5027  599]\n",
      "Pred Count:  [4861  765]\n"
     ]
    }
   ],
   "source": [
    "y_pred = model.predict(X_test)\n",
    "precision, recall, f1, support = metrics.precision_recall_fscore_support(y_test, y_pred)\n",
    "print(\"Labels:       0, 1\")\n",
    "print(\"Precision:  \", precision)\n",
    "print(\"Recall:     \", recall)\n",
    "print(\"F1:         \", f1)\n",
    "print(\"Support:    \", support)\n",
    "print(\"Pred Count: \", pd.Series(y_pred).value_counts().values)"
   ]
  },
  {
   "cell_type": "markdown",
   "metadata": {},
   "source": [
    "# Subset Converted Training Data"
   ]
  },
  {
   "cell_type": "code",
   "execution_count": 21,
   "metadata": {},
   "outputs": [],
   "source": [
    "index_converted = train[train.convert_30==1].index\n",
    "X_converted = X.loc[index_converted]\n",
    "y_revenue = train.loc[index_converted].revenue_30\n",
    "X_converted.shape, y_revenue.shape"
   ]
  },
  {
   "cell_type": "markdown",
   "metadata": {},
   "source": [
    "# Feature Selection for Revenue"
   ]
  },
  {
   "cell_type": "code",
   "execution_count": 24,
   "metadata": {},
   "outputs": [
    {
     "name": "stderr",
     "output_type": "stream",
     "text": [
      "/Users/kylemaxwell/anaconda3/lib/python3.6/site-packages/xgboost/core.py:587: FutureWarning: Series.base is deprecated and will be removed in a future version\n",
      "  if getattr(data, 'base', None) is not None and \\\n"
     ]
    },
    {
     "name": "stdout",
     "output_type": "stream",
     "text": [
      "[19:31:37] WARNING: src/objective/regression_obj.cu:152: reg:linear is now deprecated in favor of reg:squarederror.\n",
      "Mean Absolute Error: 528.6941765350238\n",
      "Mean Squared Error: 1517024.6941076065\n",
      "Root Mean Squared Error: 1231.6755636561143\n"
     ]
    }
   ],
   "source": [
    "X_train, X_test, y_train, y_test = train_test_split(X_converted, y_revenue, test_size=0.20)\n",
    "model = xgb.XGBRegressor()\n",
    "model.fit(X_train, y_train)\n",
    "xgb_revenue_features = pd.DataFrame(model.feature_importances_, X_train.columns).sort_values(0, ascending=False)\n",
    " "
   ]
  },
  {
   "cell_type": "code",
   "execution_count": 28,
   "metadata": {},
   "outputs": [],
   "source": [
    "# Select Features\n",
    "top_20 = xgb_revenue_features[:20]\n",
    "X_converted = X_converted[top_20.index]"
   ]
  },
  {
   "cell_type": "markdown",
   "metadata": {},
   "source": [
    "# Gradient Boosting for Revenue Regression"
   ]
  },
  {
   "cell_type": "code",
   "execution_count": 29,
   "metadata": {},
   "outputs": [],
   "source": [
    "# y_revenue.skew()\n",
    "# y_revenue = np.log1p(y_revenue)\n",
    "# y_pred = np.expm1(model.predict(X_test))"
   ]
  },
  {
   "cell_type": "code",
   "execution_count": 41,
   "metadata": {},
   "outputs": [
    {
     "name": "stderr",
     "output_type": "stream",
     "text": [
      "/Users/kylemaxwell/anaconda3/lib/python3.6/site-packages/xgboost/core.py:587: FutureWarning: Series.base is deprecated and will be removed in a future version\n",
      "  if getattr(data, 'base', None) is not None and \\\n"
     ]
    },
    {
     "name": "stdout",
     "output_type": "stream",
     "text": [
      "[19:34:01] WARNING: src/objective/regression_obj.cu:152: reg:linear is now deprecated in favor of reg:squarederror.\n",
      "Mean Absolute Error: 530.2510147904026\n",
      "Mean Squared Error: 1496548.121825154\n",
      "Root Mean Squared Error: 1223.3348363490488\n"
     ]
    }
   ],
   "source": [
    "X_train, X_test, y_train, y_test = train_test_split(X_converted, y_revenue, test_size=0.25)\n",
    "model = xgb.XGBRegressor()\n",
    "model.fit(X_train, y_train)\n",
    "log_y_pred = model.predict(X_test)\n",
    "\n",
    "y_pred = np.expm1(log_y_pred)\n",
    "y_test = np.expm1(y_test)\n",
    " \n",
    "print('Mean Absolute Error:', metrics.mean_absolute_error(y_test, y_pred))  \n",
    "print('Mean Squared Error:', metrics.mean_squared_error(y_test, y_pred))  \n",
    "print('Root Mean Squared Error:', np.sqrt(metrics.mean_squared_error(y_test, y_pred)))  "
   ]
  },
  {
   "cell_type": "code",
   "execution_count": 42,
   "metadata": {},
   "outputs": [
    {
     "data": {
      "image/png": "[encoded data removed]",
      "text/plain": [
       "<Figure size 432x288 with 1 Axes>"
      ]
     },
     "metadata": {
      "needs_background": "light"
     },
     "output_type": "display_data"
    }
   ],
   "source": [
    "bins = np.linspace(0, 5000, 100)\n",
    "\n",
    "plt.hist(y_test, bins, alpha=0.5, label='revenue')\n",
    "plt.hist(y_pred, bins, alpha=0.5, label='predicted')\n",
    "plt.legend(loc='upper right')\n",
    "plt.show()"
   ]
  },
  {
   "cell_type": "code",
   "execution_count": null,
   "metadata": {},
   "outputs": [],
   "source": []
  }
 ],
 "metadata": {
  "kernelspec": {
   "display_name": "Python 3",
   "language": "python",
   "name": "python3"
  },
  "language_info": {
   "codemirror_mode": {
    "name": "ipython",
    "version": 3
   },
   "file_extension": ".py",
   "mimetype": "text/x-python",
   "name": "python",
   "nbconvert_exporter": "python",
   "pygments_lexer": "ipython3",
   "version": "3.6.8"
  }
 },
 "nbformat": 4,
 "nbformat_minor": 2
}
